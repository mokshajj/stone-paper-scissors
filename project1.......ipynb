{
 "cells": [
  {
   "cell_type": "code",
   "execution_count": null,
   "id": "2f6a3b62",
   "metadata": {},
   "outputs": [],
   "source": [
    "import random\n",
    "computer=0\n",
    "playerr=0\n",
    "tiee=0\n",
    "name=input(\"Enter Your Name --->  \").title()\n",
    "while True:\n",
    "    stone=\"s\"\n",
    "    paper=\"p\"\n",
    "    scissors=\"c\"\n",
    "    a=[\"s\",\"p\",\"c\"]\n",
    "    comp=random.choice(a)\n",
    "    print(\"Stone--> s \\nPaper--> p \\nScissors--> c \")\n",
    "    player=input(\"Pick Your Hand:--   \").lower()\n",
    "    print(\"Computer picked :--  \",comp)\n",
    "    def winner(comp,player):\n",
    "        if comp==player:\n",
    "            print(\"Its a Tie\")\n",
    "            return \"tiee\"\n",
    "        elif comp==\"s\"and player==\"c\":\n",
    "            print(\"sorry..!you lost...:<\")\n",
    "            return \"computer\"\n",
    "        elif comp==\"s\" and player==\"p\":\n",
    "            print(\"Congrats ..!you win...:>\")\n",
    "            return \"playerr\"\n",
    "        elif comp==\"p\"and player==\"s\":\n",
    "            print(\"Sorry..!you lost..:<\")\n",
    "            return \"computer\"\n",
    "        elif comp==\"p\"and player==\"c\":\n",
    "            print(\"Congrats..!you win...:>!\")\n",
    "            return \"playerr\"\n",
    "        elif comp==\"c\" and player==\"s\":\n",
    "            print(\"Congrats..!you win...:>!\")\n",
    "            return \"playerr\"\n",
    "        elif comp==\"c\" and player==\"p\":\n",
    "            print(\"Sorry..!you lost..:<\")\n",
    "            return \"computer\"\n",
    "        else:\n",
    "            print(\"Invalid syntax,Try Again..!\")\n",
    "\n",
    "    result=winner(comp,player)\n",
    "    if result==\"computer\":\n",
    "        computer += 1\n",
    "    elif result==\"playerr\":\n",
    "        playerr += 1\n",
    "    else:\n",
    "        tiee += 1\n",
    "        \n",
    "    print(\"\\nComputer Score :-\",computer, name ,\"Score:-  \", playerr,\"Ties :- \",tiee)\n",
    "\n"
   ]
  },
  {
   "cell_type": "code",
   "execution_count": null,
   "id": "8bc1ba7e",
   "metadata": {},
   "outputs": [],
   "source": []
  }
 ],
 "metadata": {
  "kernelspec": {
   "display_name": "Python 3 (ipykernel)",
   "language": "python",
   "name": "python3"
  },
  "language_info": {
   "codemirror_mode": {
    "name": "ipython",
    "version": 3
   },
   "file_extension": ".py",
   "mimetype": "text/x-python",
   "name": "python",
   "nbconvert_exporter": "python",
   "pygments_lexer": "ipython3",
   "version": "3.9.12"
  }
 },
 "nbformat": 4,
 "nbformat_minor": 5
}
